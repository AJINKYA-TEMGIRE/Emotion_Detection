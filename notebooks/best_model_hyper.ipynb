{
 "cells": [
  {
   "cell_type": "code",
   "execution_count": null,
   "metadata": {},
   "outputs": [],
   "source": [
    "# Interestingly Logistic Regression in performing well on the data with TF-IDF Vectorizer.\n",
    "# There were many big models like XgBoost , RF , GB but Logistic Regression is performing to well.\n",
    "# For this moment of time we are focusing on learning to integrate the concepts learned in workflow so not focusing on accuracy much.\n",
    "# I am taking Logistic as my model now for final experimentation."
   ]
  }
 ],
 "metadata": {
  "language_info": {
   "name": "python"
  }
 },
 "nbformat": 4,
 "nbformat_minor": 2
}
