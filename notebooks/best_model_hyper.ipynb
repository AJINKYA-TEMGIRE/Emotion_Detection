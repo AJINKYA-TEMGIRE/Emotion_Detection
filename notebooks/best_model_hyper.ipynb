{
 "cells": [
  {
   "cell_type": "code",
   "execution_count": 1,
   "metadata": {
    "execution": {
     "iopub.execute_input": "2024-08-04T06:32:00.904909Z",
     "iopub.status.busy": "2024-08-04T06:32:00.904909Z",
     "iopub.status.idle": "2024-08-04T06:32:00.921668Z",
     "shell.execute_reply": "2024-08-04T06:32:00.921668Z"
    }
   },
   "outputs": [],
   "source": [
    "# Interestingly Logistic Regression in performing well on the data with TF-IDF Vectorizer.\n",
    "# There were many big models like XgBoost , RF , GB but Logistic Regression is performing to well.\n",
    "# For this moment of time we are focusing on learning to integrate the concepts learned in workflow so not focusing on accuracy much.\n",
    "# I am taking Logistic as my model now for final experimentation."
   ]
  }
 ],
 "metadata": {
  "language_info": {
   "codemirror_mode": {
    "name": "ipython",
    "version": 3
   },
   "file_extension": ".py",
   "mimetype": "text/x-python",
   "name": "python",
   "nbconvert_exporter": "python",
   "pygments_lexer": "ipython3",
   "version": "3.10.7"
  }
 },
 "nbformat": 4,
 "nbformat_minor": 2
}
